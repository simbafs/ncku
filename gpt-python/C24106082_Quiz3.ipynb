{
 "cells": [
  {
   "cell_type": "markdown",
   "metadata": {
    "id": "U-u5Zi3kXN_h"
   },
   "source": [
    "# 網路爬蟲測驗\n",
    "\n",
    "* 說明: 首先這個檔案是僅供檢視的，所以你必須在自己的雲端硬碟中另存副本，再開始進行你自己的回答。回答過程中可以使用ChatGPT, 最後需要附上ChatGPT的使用連結。(在ChatGPT右上角的Share Chat，把連結複製下來貼在最下面。為什麼要最下面呢？因為這個Share Chat必須是在你完成了所有問題的詢問之後再給出來，才會有完整的問答)\n",
    "\n",
    "* 每一題有不同的分數，而每一題當中，在程式碼的後面都要有註解(1分)。若有文字框，就是希望你可以把你的想法寫出來，那邊也會是1分。若程式正確完成就可以得到剩下的分數。\n",
    "\n",
    "* 最後請將這個檔案下載成『你的學號_Quiz3.ipynb』檔案，並上傳到moodle繳交完成測驗"
   ]
  },
  {
   "cell_type": "markdown",
   "metadata": {
    "id": "XWN5uObzaXFS"
   },
   "source": [
    "* 學號: C24106082\n",
    "* 姓名: 陳宏彰 \n",
    "* 系級: 物理系升大三"
   ]
  },
  {
   "cell_type": "markdown",
   "metadata": {
    "id": "tXXyIpu-l5tR"
   },
   "source": [
    "---\n",
    "\n",
    "1. 請找出成大首頁中的「成大快訊」中的文字，去除掉前後的空白換行等，並且把它印出來。(4 points)"
   ]
  },
  {
   "cell_type": "code",
   "execution_count": 3,
   "metadata": {
    "id": "vL-KrwbdnkzK"
   },
   "outputs": [
    {
     "name": "stdout",
     "output_type": "stream",
     "text": [
      "requesting content...\n",
      "parsing...\n",
      "finish\n"
     ]
    }
   ],
   "source": [
    "import requests\n",
    "from bs4 import BeautifulSoup\n",
    "\n",
    "print('requesting content...')\n",
    "res = requests.get('https://www.ncku.edu.tw/')\n",
    "print('parsing...')\n",
    "soup = BeautifulSoup(res.text)\n",
    "print('finish')"
   ]
  },
  {
   "cell_type": "code",
   "execution_count": 19,
   "metadata": {},
   "outputs": [
    {
     "name": "stdout",
     "output_type": "stream",
     "text": [
      "['成大普渡雙聯組持續培育未來跨國工程師2023 暑假赴美短期交流收穫多', '成功大學第一屆「敏求智慧運算競賽」作品多元展現運算科技及對未來社會之影響', '雲嘉南首班半導體職前課程成大登場第二班預計 11 月開辦', '2023 第三屆 TSAA 台灣永續行動獎國立成功大學榮獲 1 特優 1 銀 1 銅獎', '【影音】美的力量撼動人心吳美保多元藝術展即日起在成大藝坊展出', '成大與德國于利希研究中心簽署合作備忘錄共創共研攜手促進綠能科學發展', '【影音】科技藝術畢業聯展《吞噬 Live/life：生命的多重視角》開幕以多重視角轉譯繽紛生命樣貌', '2023 第四屆國際太空站 KIBO 機器人程式設計挑戰賽臺灣區預賽 「Flying Unicorns」團隊將代表臺灣參加決賽', '更多 成大快訊 >>']\n"
     ]
    }
   ],
   "source": [
    "text = [text.text.strip().replace('\\u3000', '') for text in soup.select('#Dyn_1_2_1 > div:nth-child(1) > div:nth-child(1) a')]\n",
    "t = []\n",
    "for i in text:\n",
    "    if i != '':\n",
    "        t.append(i)\n",
    "\n",
    "print(t)"
   ]
  },
  {
   "cell_type": "markdown",
   "metadata": {
    "id": "JCT1hNEJi2xv"
   },
   "source": [
    "---\n",
    "2. 請從台灣彩卷公司的網站\n",
    "https://www.taiwanlottery.com.tw/lotto/lotto649/history.aspx\n",
    "中找到最新一期大樂透的表格，並且找到各獎項的中獎注數與單注獎金(7 points)"
   ]
  },
  {
   "cell_type": "code",
   "execution_count": 23,
   "metadata": {
    "id": "D7zjdQzrivf6"
   },
   "outputs": [
    {
     "name": "stdout",
     "output_type": "stream",
     "text": [
      "requesting content...\n",
      "parsing...\n",
      "finish\n"
     ]
    }
   ],
   "source": [
    "print('requesting content...')\n",
    "res = requests.get('https://www.taiwanlottery.com.tw/lotto/lotto649/history.aspx')\n",
    "print('parsing...')\n",
    "soup = BeautifulSoup(res.text)\n",
    "print('finish')"
   ]
  },
  {
   "cell_type": "code",
   "execution_count": 52,
   "metadata": {},
   "outputs": [
    {
     "name": "stdout",
     "output_type": "stream",
     "text": [
      "注數： [0, 1, 36, 111, 2148, 2713, 29012, 38382]\n",
      "單注獎金： [0, 2175886, 65090, 13571, 2000, 1000, 400, 400]\n"
     ]
    }
   ],
   "source": [
    "table = soup.select('.table_org')[0]\n",
    "print('注數：', [int(n.text.replace(',', '')) for n in table.select('tr:nth-child(9) span')][1:])\n",
    "print('單注獎金：', [int(n.text.replace(',', '')) for n in table.select('tr:nth-child(10) span')][1:])"
   ]
  },
  {
   "cell_type": "markdown",
   "metadata": {
    "id": "0uPG6MQXjdqP"
   },
   "source": [
    "---\n",
    "\n",
    "3. 請從[警政統計查詢網](https://ba.npa.gov.tw/npa/stmain.jsp?sys=100)，進入之後找一個你有興趣的主題，然後經過按了查詢之後，你就可以得到一個網址列。請用Python寫一個程式，將那個查詢表格抓下來。(9 points)"
   ]
  },
  {
   "cell_type": "code",
   "execution_count": 94,
   "metadata": {
    "id": "MXV6PW93kPl3"
   },
   "outputs": [
    {
     "name": "stdout",
     "output_type": "stream",
     "text": [
      "requesting content...\n",
      "parsing...\n",
      "finish\n"
     ]
    }
   ],
   "source": [
    "print('requesting content...')\n",
    "res = requests.get('https://ba.npa.gov.tw/npa/stmain.jsp?sys=220&ym=11106&ymt=11206&kind=21&type=1&funid=q04020301&cycle=1&outmode=0&compmode=0&ohtml=q250x&outkind=1&fldlst=110&cod00=1&rdm=tAI6fVNh')\n",
    "print('parsing...')\n",
    "soup = BeautifulSoup(res.text)\n",
    "print('finish')"
   ]
  },
  {
   "cell_type": "code",
   "execution_count": 127,
   "metadata": {},
   "outputs": [
    {
     "name": "stdout",
     "output_type": "stream",
     "text": [
      "111年 6月:\t33.3%\n",
      "111年 7月:\t125.0%\n",
      "111年 8月:\t71.4%\n",
      "111年 9月:\t94.6%\n",
      "111年 10月:\t94.2%\n",
      "111年 11月:\t97.5%\n",
      "111年 12月:\t100.5%\n",
      "112年 1月:\t103.8%\n",
      "112年 2月:\t100.0%\n",
      "112年 3月:\t109.1%\n",
      "112年 4月:\t111.1%\n",
      "112年 5月:\t100.0%\n",
      "112年 6月:\t200.0%\n"
     ]
    }
   ],
   "source": [
    "tr = soup.select('.tblcls tr')[2:]\n",
    "month = [tr.select('th')[0].text for tr in tr]\n",
    "ratio = [row[1]/row[0] for row in [[int(td.text) for td in tr.select('td')] for tr in tr]]\n",
    "for i in range(len(month)):\n",
    "    print('{}:\\t{:.1%}'.format(month[i], ratio[i]))"
   ]
  },
  {
   "cell_type": "markdown",
   "metadata": {
    "id": "V4ZN2Cn1rh4w"
   },
   "source": [
    "**我有興趣的主題是:** 違反選罷法\n",
    "\n",
    "**我想要抓取的資料是:** 每月 **案件數/破獲數** 比率"
   ]
  },
  {
   "cell_type": "markdown",
   "metadata": {
    "id": "TyPYVYgmZnbm"
   },
   "source": [
    "---\n",
    "\n",
    "**ChatGPT使用連結:**[https://chat.openai.com/share/126ff965-7986-4a0d-b7ab-ad2f8e7a680b](https://chat.openai.com/share/126ff965-7986-4a0d-b7ab-ad2f8e7a680b)"
   ]
  }
 ],
 "metadata": {
  "colab": {
   "provenance": []
  },
  "kernelspec": {
   "display_name": "Python 3 (ipykernel)",
   "language": "python",
   "name": "python3"
  },
  "language_info": {
   "codemirror_mode": {
    "name": "ipython",
    "version": 3
   },
   "file_extension": ".py",
   "mimetype": "text/x-python",
   "name": "python",
   "nbconvert_exporter": "python",
   "pygments_lexer": "ipython3",
   "version": "3.10.6"
  }
 },
 "nbformat": 4,
 "nbformat_minor": 4
}
