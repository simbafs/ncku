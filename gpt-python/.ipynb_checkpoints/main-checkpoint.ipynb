{
 "cells": [
  {
   "cell_type": "code",
   "execution_count": 12,
   "id": "2cdef4cb-c9a6-4c8e-8a79-57d1c0892179",
   "metadata": {},
   "outputs": [],
   "source": [
    "import requests\n",
    "url = \"https://course.ncku.edu.tw/index.php?c=qry11215&m=en_query&i=VjADNAg2AjFVe1UjVjhRYQ06DHcENAAuW2kAYgA3ATNTZwcrUGwAPwpiVTtdNgBvUTQDO1ZqBz8IIAdyVD4CPFlkAyxaIFQ2C3wAPlN0ADtcYAppUCEMMQohBT0FdQ5wBHlUOQdjVGtQI1dyViYBbgFkVGwHOlJqASkAewAjBTNWYAM0CCcCbFUiVWtWYFFqDTEMbgQq\"\n",
    "res = requests.get(url)"
   ]
  },
  {
   "cell_type": "code",
   "execution_count": 3,
   "id": "50c73b7c-d397-4612-9859-a9b01053b466",
   "metadata": {},
   "outputs": [],
   "source": [
    "from bs4 import BeautifulSoup\n",
    "soup = BeautifulSoup(res.text, \"html.parser\")"
   ]
  },
  {
   "cell_type": "code",
   "execution_count": 34,
   "id": "85dffe9a-86c8-4a28-acbe-cfe6b4c693cc",
   "metadata": {},
   "outputs": [
    {
     "ename": "IndexError",
     "evalue": "list index out of range",
     "output_type": "error",
     "traceback": [
      "\u001b[0;31m---------------------------------------------------------------------------\u001b[0m",
      "\u001b[0;31mIndexError\u001b[0m                                Traceback (most recent call last)",
      "Cell \u001b[0;32mIn[34], line 11\u001b[0m\n\u001b[1;32m      9\u001b[0m tds \u001b[38;5;241m=\u001b[39m tr_tag\u001b[38;5;241m.\u001b[39mfind_all(\u001b[38;5;124m'\u001b[39m\u001b[38;5;124mtd\u001b[39m\u001b[38;5;124m'\u001b[39m)\n\u001b[1;32m     10\u001b[0m department \u001b[38;5;241m=\u001b[39m tds[\u001b[38;5;241m0\u001b[39m]\u001b[38;5;241m.\u001b[39mtext\u001b[38;5;241m.\u001b[39mstrip()\n\u001b[0;32m---> 11\u001b[0m dept_seq \u001b[38;5;241m=\u001b[39m \u001b[43mtds\u001b[49m\u001b[43m[\u001b[49m\u001b[38;5;241;43m1\u001b[39;49m\u001b[43m]\u001b[49m\u001b[38;5;66;03m#.find('div', class_='dept_seq').text.strip()\u001b[39;00m\n\u001b[1;32m     12\u001b[0m course_code \u001b[38;5;241m=\u001b[39m tds[\u001b[38;5;241m1\u001b[39m]\u001b[38;5;66;03m#.contents[2].strip()\u001b[39;00m\n\u001b[1;32m     13\u001b[0m department_type \u001b[38;5;241m=\u001b[39m tds[\u001b[38;5;241m3\u001b[39m]\u001b[38;5;241m.\u001b[39mtext\u001b[38;5;241m.\u001b[39mstrip()\n",
      "\u001b[0;31mIndexError\u001b[0m: list index out of range"
     ]
    }
   ],
   "source": [
    "tr_tags = soup.select('tbody > tr')\n",
    "\n",
    "# Initialize an empty list to store dictionaries for each row\n",
    "data_list = []\n",
    "\n",
    "# Loop through each tr tag\n",
    "for tr_tag in tr_tags:\n",
    "    # Extract the relevant data from each td tag within the tr tag\n",
    "    tds = tr_tag.find_all('td')\n",
    "    print(tds)\n",
    "    department = tds[0].text.strip()\n",
    "    dept_seq = tds[1]#.find('div', class_='dept_seq').text.strip()\n",
    "    course_code = tds[1]#.contents[2].strip()\n",
    "    department_type = tds[3].text.strip()\n",
    "    course_name = tds[4]#.find('a').text.strip()\n",
    "    credit = tds[5].text.strip()\n",
    "    instructor = tds[6].text.strip()\n",
    "    enrollment_status = tds[7].text.strip()\n",
    "    location = tds[8].text.strip()\n",
    "        \n",
    "    # Create a dictionary for each row and append it to the data_list\n",
    "    data_dict = {\n",
    "        'Department': department,\n",
    "        'Department Sequence': dept_seq,\n",
    "        'Course Code': course_code,\n",
    "        'Department Type': department_type,\n",
    "        'Course Name': course_name,\n",
    "        'Credit': credit,\n",
    "        'Instructor': instructor,\n",
    "        'Enrollment Status': enrollment_status,\n",
    "        'Location': location\n",
    "    }\n",
    "    data_list.append(data_dict)\n",
    "\n",
    "print(data_list[:10])"
   ]
  }
 ],
 "metadata": {
  "kernelspec": {
   "display_name": "Python 3 (ipykernel)",
   "language": "python",
   "name": "python3"
  },
  "language_info": {
   "codemirror_mode": {
    "name": "ipython",
    "version": 3
   },
   "file_extension": ".py",
   "mimetype": "text/x-python",
   "name": "python",
   "nbconvert_exporter": "python",
   "pygments_lexer": "ipython3",
   "version": "3.10.6"
  }
 },
 "nbformat": 4,
 "nbformat_minor": 5
}
