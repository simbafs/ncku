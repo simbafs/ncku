{
 "cells": [
  {
   "cell_type": "markdown",
   "metadata": {
    "id": "U-u5Zi3kXN_h"
   },
   "source": [
    "# 基礎測驗\n",
    "\n",
    "* 說明: 首先這個檔案是僅供檢視的，所以你必須在自己的雲端硬碟中另存副本，再開始進行你自己的回答。回答過程中可以使用ChatGPT, 最後需要附上ChatGPT的使用連結。(在ChatGPT右上角的Share Chat，把連結複製下來貼在最下面。為什麼要最下面呢？因為這個Share Chat必須是在你完成了所有問題的詢問之後再給出來，才會有完整的問答)\n",
    "\n",
    "* 每一題有不同的分數，而每一題當中，在程式碼的後面都要有註解(1分)。若有文字框，就是希望你可以把你的想法寫出來，那邊也會是1分。若程式正確完成就可以得到剩下的分數。\n",
    "\n",
    "* 最後請將這個檔案下載成『你的學號_Quiz2.ipynb』檔案，並上傳到moodle繳交完成測驗"
   ]
  },
  {
   "cell_type": "markdown",
   "metadata": {
    "id": "XWN5uObzaXFS"
   },
   "source": [
    "* 學號: C24106082\n",
    "* 姓名: 陳宏彰 \n",
    "* 系級: 物理系升大三"
   ]
  },
  {
   "cell_type": "markdown",
   "metadata": {
    "id": "tXXyIpu-l5tR"
   },
   "source": [
    "---\n",
    "\n",
    "1. 請找出哪些三位數，它的每個數字和是質數，並且把它存入一個list。(2 points)"
   ]
  },
  {
   "cell_type": "code",
   "execution_count": 1,
   "metadata": {
    "id": "vL-KrwbdnkzK"
   },
   "outputs": [
    {
     "name": "stdout",
     "output_type": "stream",
     "text": [
      "[101, 102, 104, 106, 110, 111, 113, 115, 119, 120, 122, 124, 128, 131, 133, 137, 139, 140, 142, 146, 148, 151, 155, 157, 160, 164, 166, 173, 175, 179, 182, 184, 188, 191, 193, 197, 199, 200, 201, 203, 205, 209, 210, 212, 214, 218, 221, 223, 227, 229, 230, 232, 236, 238, 241, 245, 247, 250, 254, 256, 263, 265, 269, 272, 274, 278, 281, 283, 287, 289, 290, 292, 296, 298, 300, 302, 304, 308, 311, 313, 317, 319, 320, 322, 326, 328, 331, 335, 337, 340, 344, 346, 353, 355, 359, 362, 364, 368, 371, 373, 377, 379, 380, 382, 386, 388, 391, 395, 397, 401, 403, 407, 409, 410, 412, 416, 418, 421, 425, 427, 430, 434, 436, 443, 445, 449, 452, 454, 458, 461, 463, 467, 469, 470, 472, 476, 478, 481, 485, 487, 490, 494, 496, 500, 502, 506, 508, 511, 515, 517, 520, 524, 526, 533, 535, 539, 542, 544, 548, 551, 553, 557, 559, 560, 562, 566, 568, 571, 575, 577, 580, 584, 586, 593, 595, 599, 601, 605, 607, 610, 614, 616, 623, 625, 629, 632, 634, 638, 641, 643, 647, 649, 650, 652, 656, 658, 661, 665, 667, 670, 674, 676, 683, 685, 689, 692, 694, 698, 700, 704, 706, 713, 715, 719, 722, 724, 728, 731, 733, 737, 739, 740, 742, 746, 748, 751, 755, 757, 760, 764, 766, 773, 775, 779, 782, 784, 788, 791, 793, 797, 803, 805, 809, 812, 814, 818, 821, 823, 827, 829, 830, 832, 836, 838, 841, 845, 847, 850, 854, 856, 863, 865, 869, 872, 874, 878, 881, 883, 887, 890, 892, 896, 902, 904, 908, 911, 913, 917, 919, 920, 922, 926, 928, 931, 935, 937, 940, 944, 946, 953, 955, 959, 962, 964, 968, 971, 973, 977, 980, 982, 986, 991, 995]\n"
     ]
    }
   ],
   "source": [
    "ans = []\n",
    "for i in range(100, 1000):\n",
    "    s = i//100 + i//10%10 + i%10\n",
    "    isPrime = True\n",
    "    if s == 1:\n",
    "        continue\n",
    "    for j in range(2, int(s**0.5)+1):\n",
    "        if s%j == 0:\n",
    "            isPrime = False\n",
    "            break\n",
    "    if isPrime:\n",
    "        ans.append(i)\n",
    "print(ans)"
   ]
  },
  {
   "cell_type": "markdown",
   "metadata": {
    "id": "JCT1hNEJi2xv"
   },
   "source": [
    "---\n",
    "2. 請寫出一個函數，產生一個dict，它需要統計輸入的字串中，每個單字各出現了幾次？請注意，沒有出現的字不需要出現在字典中。舉例來說，如果你將 pneumonoultramicroscopicsilicovolcanoconiosis 單字放進去, 它會有個dict，說明a出現2次，c出現3次。(3 points)"
   ]
  },
  {
   "cell_type": "code",
   "execution_count": 2,
   "metadata": {
    "id": "D7zjdQzrivf6"
   },
   "outputs": [
    {
     "name": "stdout",
     "output_type": "stream",
     "text": [
      "{'p': 2, 'n': 4, 'e': 1, 'u': 2, 'm': 2, 'o': 9, 'l': 3, 't': 1, 'r': 2, 'a': 2, 'i': 6, 'c': 6, 's': 4, 'v': 1}\n"
     ]
    }
   ],
   "source": [
    "def count(text):\n",
    "    d = dict()\n",
    "    for i in text:\n",
    "        if i in d:\n",
    "            d[i] += 1\n",
    "        else:\n",
    "            d[i] = 1\n",
    "    return d\n",
    "\n",
    "print(count('pneumonoultramicroscopicsilicovolcanoconiosis'))"
   ]
  },
  {
   "cell_type": "markdown",
   "metadata": {
    "id": "0uPG6MQXjdqP"
   },
   "source": [
    "---\n",
    "\n",
    "3. 請寫一個程式，從 https://api.worldbank.org/v2/en/indicator/SP.POP.TOTL?downloadformat=excel  取得excel檔案中的資訊，並且從中找出紀錄中每一年(在某一列有)的世界(World)人口。也就是這個回應會有兩個list，一個是紀錄的年份，一個是該年份的世界總人口。(5 points)"
   ]
  },
  {
   "cell_type": "code",
   "execution_count": 3,
   "metadata": {},
   "outputs": [
    {
     "name": "stdout",
     "output_type": "stream",
     "text": [
      "Defaulting to user installation because normal site-packages is not writeable\n",
      "Requirement already satisfied: xlrd in /home/simba/.local/lib/python3.10/site-packages (2.0.1)\n"
     ]
    }
   ],
   "source": [
    "!pip install xlrd"
   ]
  },
  {
   "cell_type": "code",
   "execution_count": 4,
   "metadata": {
    "id": "MXV6PW93kPl3"
   },
   "outputs": [
    {
     "data": {
      "text/html": [
       "<div>\n",
       "<style scoped>\n",
       "    .dataframe tbody tr th:only-of-type {\n",
       "        vertical-align: middle;\n",
       "    }\n",
       "\n",
       "    .dataframe tbody tr th {\n",
       "        vertical-align: top;\n",
       "    }\n",
       "\n",
       "    .dataframe thead th {\n",
       "        text-align: right;\n",
       "    }\n",
       "</style>\n",
       "<table border=\"1\" class=\"dataframe\">\n",
       "  <thead>\n",
       "    <tr style=\"text-align: right;\">\n",
       "      <th></th>\n",
       "      <th>Data Source</th>\n",
       "      <th>World Development Indicators</th>\n",
       "      <th>Unnamed: 2</th>\n",
       "      <th>Unnamed: 3</th>\n",
       "      <th>Unnamed: 4</th>\n",
       "      <th>Unnamed: 5</th>\n",
       "      <th>Unnamed: 6</th>\n",
       "      <th>Unnamed: 7</th>\n",
       "      <th>Unnamed: 8</th>\n",
       "      <th>Unnamed: 9</th>\n",
       "      <th>...</th>\n",
       "      <th>Unnamed: 57</th>\n",
       "      <th>Unnamed: 58</th>\n",
       "      <th>Unnamed: 59</th>\n",
       "      <th>Unnamed: 60</th>\n",
       "      <th>Unnamed: 61</th>\n",
       "      <th>Unnamed: 62</th>\n",
       "      <th>Unnamed: 63</th>\n",
       "      <th>Unnamed: 64</th>\n",
       "      <th>Unnamed: 65</th>\n",
       "      <th>Unnamed: 66</th>\n",
       "    </tr>\n",
       "  </thead>\n",
       "  <tbody>\n",
       "    <tr>\n",
       "      <th>0</th>\n",
       "      <td>Last Updated Date</td>\n",
       "      <td>2023-07-25 00:00:00</td>\n",
       "      <td>NaN</td>\n",
       "      <td>NaN</td>\n",
       "      <td>NaN</td>\n",
       "      <td>NaN</td>\n",
       "      <td>NaN</td>\n",
       "      <td>NaN</td>\n",
       "      <td>NaN</td>\n",
       "      <td>NaN</td>\n",
       "      <td>...</td>\n",
       "      <td>NaN</td>\n",
       "      <td>NaN</td>\n",
       "      <td>NaN</td>\n",
       "      <td>NaN</td>\n",
       "      <td>NaN</td>\n",
       "      <td>NaN</td>\n",
       "      <td>NaN</td>\n",
       "      <td>NaN</td>\n",
       "      <td>NaN</td>\n",
       "      <td>NaN</td>\n",
       "    </tr>\n",
       "    <tr>\n",
       "      <th>1</th>\n",
       "      <td>NaN</td>\n",
       "      <td>NaN</td>\n",
       "      <td>NaN</td>\n",
       "      <td>NaN</td>\n",
       "      <td>NaN</td>\n",
       "      <td>NaN</td>\n",
       "      <td>NaN</td>\n",
       "      <td>NaN</td>\n",
       "      <td>NaN</td>\n",
       "      <td>NaN</td>\n",
       "      <td>...</td>\n",
       "      <td>NaN</td>\n",
       "      <td>NaN</td>\n",
       "      <td>NaN</td>\n",
       "      <td>NaN</td>\n",
       "      <td>NaN</td>\n",
       "      <td>NaN</td>\n",
       "      <td>NaN</td>\n",
       "      <td>NaN</td>\n",
       "      <td>NaN</td>\n",
       "      <td>NaN</td>\n",
       "    </tr>\n",
       "    <tr>\n",
       "      <th>2</th>\n",
       "      <td>Country Name</td>\n",
       "      <td>Country Code</td>\n",
       "      <td>Indicator Name</td>\n",
       "      <td>Indicator Code</td>\n",
       "      <td>1960.0</td>\n",
       "      <td>1961.0</td>\n",
       "      <td>1962.0</td>\n",
       "      <td>1963.0</td>\n",
       "      <td>1964.0</td>\n",
       "      <td>1965.0</td>\n",
       "      <td>...</td>\n",
       "      <td>2013.0</td>\n",
       "      <td>2014.0</td>\n",
       "      <td>2015.0</td>\n",
       "      <td>2016.0</td>\n",
       "      <td>2017.0</td>\n",
       "      <td>2018.0</td>\n",
       "      <td>2019.0</td>\n",
       "      <td>2020.0</td>\n",
       "      <td>2021.0</td>\n",
       "      <td>2022.0</td>\n",
       "    </tr>\n",
       "    <tr>\n",
       "      <th>3</th>\n",
       "      <td>Aruba</td>\n",
       "      <td>ABW</td>\n",
       "      <td>Population, total</td>\n",
       "      <td>SP.POP.TOTL</td>\n",
       "      <td>54608.0</td>\n",
       "      <td>55811.0</td>\n",
       "      <td>56682.0</td>\n",
       "      <td>57475.0</td>\n",
       "      <td>58178.0</td>\n",
       "      <td>58782.0</td>\n",
       "      <td>...</td>\n",
       "      <td>102880.0</td>\n",
       "      <td>103594.0</td>\n",
       "      <td>104257.0</td>\n",
       "      <td>104874.0</td>\n",
       "      <td>105439.0</td>\n",
       "      <td>105962.0</td>\n",
       "      <td>106442.0</td>\n",
       "      <td>106585.0</td>\n",
       "      <td>106537.0</td>\n",
       "      <td>106445.0</td>\n",
       "    </tr>\n",
       "    <tr>\n",
       "      <th>4</th>\n",
       "      <td>Africa Eastern and Southern</td>\n",
       "      <td>AFE</td>\n",
       "      <td>Population, total</td>\n",
       "      <td>SP.POP.TOTL</td>\n",
       "      <td>130692579.0</td>\n",
       "      <td>134169237.0</td>\n",
       "      <td>137835590.0</td>\n",
       "      <td>141630546.0</td>\n",
       "      <td>145605995.0</td>\n",
       "      <td>149742351.0</td>\n",
       "      <td>...</td>\n",
       "      <td>567892149.0</td>\n",
       "      <td>583651101.0</td>\n",
       "      <td>600008424.0</td>\n",
       "      <td>616377605.0</td>\n",
       "      <td>632746570.0</td>\n",
       "      <td>649757148.0</td>\n",
       "      <td>667242986.0</td>\n",
       "      <td>685112979.0</td>\n",
       "      <td>702977106.0</td>\n",
       "      <td>720839314.0</td>\n",
       "    </tr>\n",
       "  </tbody>\n",
       "</table>\n",
       "<p>5 rows × 67 columns</p>\n",
       "</div>"
      ],
      "text/plain": [
       "                   Data Source World Development Indicators  \\\n",
       "0            Last Updated Date          2023-07-25 00:00:00   \n",
       "1                          NaN                          NaN   \n",
       "2                 Country Name                 Country Code   \n",
       "3                        Aruba                          ABW   \n",
       "4  Africa Eastern and Southern                          AFE   \n",
       "\n",
       "          Unnamed: 2      Unnamed: 3   Unnamed: 4   Unnamed: 5   Unnamed: 6  \\\n",
       "0                NaN             NaN          NaN          NaN          NaN   \n",
       "1                NaN             NaN          NaN          NaN          NaN   \n",
       "2     Indicator Name  Indicator Code       1960.0       1961.0       1962.0   \n",
       "3  Population, total     SP.POP.TOTL      54608.0      55811.0      56682.0   \n",
       "4  Population, total     SP.POP.TOTL  130692579.0  134169237.0  137835590.0   \n",
       "\n",
       "    Unnamed: 7   Unnamed: 8   Unnamed: 9  ...  Unnamed: 57  Unnamed: 58  \\\n",
       "0          NaN          NaN          NaN  ...          NaN          NaN   \n",
       "1          NaN          NaN          NaN  ...          NaN          NaN   \n",
       "2       1963.0       1964.0       1965.0  ...       2013.0       2014.0   \n",
       "3      57475.0      58178.0      58782.0  ...     102880.0     103594.0   \n",
       "4  141630546.0  145605995.0  149742351.0  ...  567892149.0  583651101.0   \n",
       "\n",
       "   Unnamed: 59  Unnamed: 60  Unnamed: 61  Unnamed: 62  Unnamed: 63  \\\n",
       "0          NaN          NaN          NaN          NaN          NaN   \n",
       "1          NaN          NaN          NaN          NaN          NaN   \n",
       "2       2015.0       2016.0       2017.0       2018.0       2019.0   \n",
       "3     104257.0     104874.0     105439.0     105962.0     106442.0   \n",
       "4  600008424.0  616377605.0  632746570.0  649757148.0  667242986.0   \n",
       "\n",
       "   Unnamed: 64  Unnamed: 65  Unnamed: 66  \n",
       "0          NaN          NaN          NaN  \n",
       "1          NaN          NaN          NaN  \n",
       "2       2020.0       2021.0       2022.0  \n",
       "3     106585.0     106537.0     106445.0  \n",
       "4  685112979.0  702977106.0  720839314.0  \n",
       "\n",
       "[5 rows x 67 columns]"
      ]
     },
     "execution_count": 4,
     "metadata": {},
     "output_type": "execute_result"
    }
   ],
   "source": [
    "import pandas as pd\n",
    "\n",
    "df = pd.read_excel('./API_SP.POP.TOTL_DS2_en_excel_v2_5729068.xls')\n",
    "df.head()"
   ]
  },
  {
   "cell_type": "code",
   "execution_count": 5,
   "metadata": {},
   "outputs": [
    {
     "name": "stdout",
     "output_type": "stream",
     "text": [
      "[1960.0, 1961.0, 1962.0, 1963.0, 1964.0, 1965.0, 1966.0, 1967.0, 1968.0, 1969.0, 1970.0, 1971.0, 1972.0, 1973.0, 1974.0, 1975.0, 1976.0, 1977.0, 1978.0, 1979.0, 1980.0, 1981.0, 1982.0, 1983.0, 1984.0, 1985.0, 1986.0, 1987.0, 1988.0, 1989.0, 1990.0, 1991.0, 1992.0, 1993.0, 1994.0, 1995.0, 1996.0, 1997.0, 1998.0, 1999.0, 2000.0, 2001.0, 2002.0, 2003.0, 2004.0, 2005.0, 2006.0, 2007.0, 2008.0, 2009.0, 2010.0, 2011.0, 2012.0, 2013.0, 2014.0, 2015.0, 2016.0, 2017.0, 2018.0, 2019.0, 2020.0, 2021.0, 2022.0] [3031474234.0, 3072421801.0, 3126849612.0, 3193428894.0, 3260441925.0, 3328209022.0, 3398480280.0, 3468370526.0, 3540164023.0, 3614572835.0, 3690209960.0, 3767930001.0, 3843607574.0, 3920017410.0, 3995888368.0, 4070022249.0, 4143091942.0, 4215826364.0, 4289795862.0, 4365742277.0, 4442348279.0, 4520917350.0, 4602701335.0, 4684875627.0, 4766640881.0, 4850076923.0, 4936006502.0, 5024289346.0, 5113387878.0, 5202582534.0, 5293395467.0, 5382536929.0, 5470164577.0, 5556623321.0, 5642046034.0, 5726736488.0, 5811580202.0, 5896055962.0, 5979726559.0, 6062288850.0, 6144321462.0, 6226348086.0, 6308140970.0, 6389462496.0, 6470924346.0, 6552700448.0, 6635110367.0, 6717878341.0, 6801710019.0, 6885849785.0, 6970038720.0, 7053994597.0, 7141487869.0, 7229731581.0, 7317970484.0, 7405277863.0, 7492156881.0, 7578220703.0, 7661776612.0, 7742682218.0, 7820963775.0, 7888161297.0, 7951149546.0]\n"
     ]
    }
   ],
   "source": [
    "years = df.iloc[2].tolist()[4:]\n",
    "population = df[df.iloc[:, 0] == 'World'].iloc[0].tolist()[4:]\n",
    "print(years, population)"
   ]
  },
  {
   "cell_type": "markdown",
   "metadata": {
    "id": "xQDNTN_7kS4l"
   },
   "source": [
    "---\n",
    "\n",
    "4. 在課程的介紹中，沒有介紹到while迴圈。請寫一個Python程式透過while迴圈來找出1到100中的質數, 並且把它放入一個list中。你覺得它與for-loop有什麼差別？(3 points)"
   ]
  },
  {
   "cell_type": "code",
   "execution_count": 6,
   "metadata": {
    "id": "IwuSFktrl43k"
   },
   "outputs": [
    {
     "name": "stdout",
     "output_type": "stream",
     "text": [
      "[1, 2, 3, 5, 7, 11, 13, 17, 19, 23, 29, 31, 37, 41, 43, 47, 53, 59, 61, 67, 71, 73, 79, 83, 89, 97]\n"
     ]
    }
   ],
   "source": [
    "prime = []\n",
    "i = 1\n",
    "end = 100\n",
    "while i <= end:\n",
    "    j = 2\n",
    "    isPrime = True\n",
    "    while j < int(i**0.5)+1:\n",
    "        if i%j == 0:\n",
    "            isPrime = False\n",
    "            break\n",
    "        j += 1\n",
    "    if isPrime:\n",
    "        prime.append(i)\n",
    "    i += 1\n",
    "\n",
    "print(prime)"
   ]
  },
  {
   "cell_type": "markdown",
   "metadata": {
    "id": "n6TAneufyH7A"
   },
   "source": [
    "**我覺得while與for-loop的差別是**: 明確知道要執行幾次時 for loop 比較好用，但是如果問題是找到第 100 個值數時 while loop 比較好用"
   ]
  },
  {
   "cell_type": "markdown",
   "metadata": {
    "id": "_PZ1WkU8S4T6"
   },
   "source": [
    "---\n",
    "\n",
    "5. 請從網路上找最新的報稅級距(用你的話寫在下面)，然後用python寫一個compute_tax函數, 輸入x: 綜合所得淨額，輸出y: 應納稅額？(3 points)"
   ]
  },
  {
   "cell_type": "code",
   "execution_count": 7,
   "metadata": {
    "id": "hee61icITp3x"
   },
   "outputs": [],
   "source": [
    "def tax(n):\n",
    "    if n < 560000:\n",
    "        return n * 0.05\n",
    "    elif n < 1260000:\n",
    "        return n  * 0.12 - 39200\n",
    "    elif n < 2520000:\n",
    "        return n * 0.2 - 140000\n",
    "    elif n < 4720000:\n",
    "        return n * 0.3 - 392000\n",
    "    else:\n",
    "        return n * 0.4 - 864000"
   ]
  },
  {
   "cell_type": "markdown",
   "metadata": {
    "id": "IGqUoFAWYRdn"
   },
   "source": [
    "**報稅級距:**:  \n",
    "* 綜合所得淨額 0~560000，稅率 5%\n",
    "* 綜合所得淨額 560001~1260000，稅率 12%，扣掉差額 39200\n",
    "* 綜合所得淨額 1260001~2520000，稅率 20%，扣掉差額 140000\n",
    "* 綜合所得淨額 2520001~4720000，稅率 30%，扣掉差額 392000\n",
    "* 綜合所得淨額 4720001 以上，稅率 40%，扣掉差額 864000"
   ]
  },
  {
   "cell_type": "markdown",
   "metadata": {
    "id": "-ORrh12VWFJQ"
   },
   "source": [
    "---\n",
    "\n",
    "6. 請建立一個自己的Python函式庫字典，輸入函式庫的關鍵字之後，秀出你關於那一個關鍵字的學習成果或是你曾經使用過的該關鍵字的函數。至少要有4個關鍵字(4 points)"
   ]
  },
  {
   "cell_type": "code",
   "execution_count": 8,
   "metadata": {
    "id": "NWrNM_CoWQcd"
   },
   "outputs": [
    {
     "name": "stdout",
     "output_type": "stream",
     "text": [
      "set: set is a data structure that can store unique value, usefull when I need to store something I don't care the order\n",
      "list: list is similar with set, but it cares the order and can store two same elements.\n",
      "tuple: tuple is similar with list, but once it defined, you can't modify it.\n",
      "dict: dict is a data structure to store key-value pairs, key should be string or int, value can be anything like int, string, set , list or even another dict!\n",
      "for: do something more than one times but write only once\n",
      "range: generate a list of int, used in for loop\n",
      "=: asign a value to variable\n",
      "==: compare if the two value is the same\n",
      "def: define a function, help you to reuse code\n",
      "print: print some value to screen\n",
      "pandas: A great package for processing tabular data\n",
      "if: do something only when the condition is true\n",
      "elif: if all above if/elif baanches are false, do this if the condition is true\n",
      "else: do something if all above branches is false\n"
     ]
    }
   ],
   "source": [
    "my_skill = {\n",
    "    'set': 'set is a data structure that can store unique value, usefull when I need to store something I don\\'t care the order',\n",
    "    'list': 'list is similar with set, but it cares the order and can store two same elements.',\n",
    "    'tuple': 'tuple is similar with list, but once it defined, you can\\'t modify it.',\n",
    "    'dict': 'dict is a data structure to store key-value pairs, key should be string or int, value can be anything like int, string, set , list or even another dict!',\n",
    "    'for': 'do something more than one times but write only once',\n",
    "    'range': 'generate a list of int, used in for loop',\n",
    "    '=': 'asign a value to variable',\n",
    "    '==': 'compare if the two value is the same',\n",
    "    'def': 'define a function, help you to reuse code',\n",
    "    'print': 'print some value to screen',\n",
    "    'pandas': 'A great package for processing tabular data',\n",
    "    'if': 'do something only when the condition is true',\n",
    "    'elif': 'if all above if/elif baanches are false, do this if the condition is true',\n",
    "    'else': 'do something if all above branches is false',\n",
    "}\n",
    "\n",
    "[print(f\"{skill[0]}: {skill[1]}\") for skill in my_skill.items()];"
   ]
  },
  {
   "cell_type": "markdown",
   "metadata": {
    "id": "TyPYVYgmZnbm"
   },
   "source": [
    "---\n",
    "\n",
    "**ChatGPT使用連結:**[https://chat.openai.com/share/d46621f5-6374-4df8-af72-ee220cfa42f6](https://chat.openai.com/share/d46621f5-6374-4df8-af72-ee220cfa42f6)"
   ]
  }
 ],
 "metadata": {
  "colab": {
   "provenance": []
  },
  "kernelspec": {
   "display_name": "Python 3 (ipykernel)",
   "language": "python",
   "name": "python3"
  },
  "language_info": {
   "codemirror_mode": {
    "name": "ipython",
    "version": 3
   },
   "file_extension": ".py",
   "mimetype": "text/x-python",
   "name": "python",
   "nbconvert_exporter": "python",
   "pygments_lexer": "ipython3",
   "version": "3.10.6"
  }
 },
 "nbformat": 4,
 "nbformat_minor": 4
}
