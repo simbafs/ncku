{
 "cells": [
  {
   "cell_type": "markdown",
   "metadata": {
    "id": "U-u5Zi3kXN_h"
   },
   "source": [
    "# 基礎測驗\n",
    "\n",
    "* 說明: 首先這個檔案是僅供檢視的，所以你必須在自己的雲端硬碟中另存副本，再開始進行你自己的回答。回答過程中可以使用ChatGPT, 最後需要附上ChatGPT的使用連結。(在ChatGPT右上角的Share Chat，把連結複製下來貼在最下面。為什麼要最下面呢？因為這個Share Chat必須是在你完成了所有問題的詢問之後再給出來，才會有完整的問答)\n",
    "\n",
    "* 每一題有不同的分數，而每一題當中，在程式碼的後面都要有註解(1分)。若有文字框，就是希望你可以把你的想法寫出來，那邊也會是1分。若程式正確完成就可以得到剩下的分數。\n",
    "\n",
    "* 最後請將這個檔案下載成『你的學號_Quiz1.ipynb』檔案，並上傳到moodle繳交完成測驗"
   ]
  },
  {
   "cell_type": "markdown",
   "metadata": {
    "id": "XWN5uObzaXFS"
   },
   "source": [
    "* 學號: C24106082\n",
    "* 姓名: 陳宏彰 \n",
    "* 系級: 物理系升大三"
   ]
  },
  {
   "cell_type": "markdown",
   "metadata": {
    "id": "tXXyIpu-l5tR"
   },
   "source": [
    "---\n",
    "\n",
    "1. 在一個字串中，它其實可以像一個list一樣把中間的某部分取出來。在這個世界上最長的單字pneumonoultramicroscopicsilicovolcanoconiosis中，我要取出它中間的某一段文字，舉例來說，第10到第15個英文字，該怎麼透過程式完成？(2 points)"
   ]
  },
  {
   "cell_type": "code",
   "execution_count": 3,
   "metadata": {
    "id": "vL-KrwbdnkzK"
   },
   "outputs": [
    {
     "name": "stdout",
     "output_type": "stream",
     "text": [
      "ltrami\n"
     ]
    }
   ],
   "source": [
    "text = 'pneumonoultramicroscopicsilicovolcanoconiosis'\n",
    "print(text[10-1:15])"
   ]
  },
  {
   "cell_type": "markdown",
   "metadata": {
    "id": "JCT1hNEJi2xv"
   },
   "source": [
    "---\n",
    "2. 請在下面的程式碼區域寫出一個程式，驗證tuple中的內容是無法被改變的。也就是你的這個程式，它執行時應該會出現錯誤訊息。這個錯誤訊息會是什麼？請把它複製出來寫在後面的文字區域 (3 points)"
   ]
  },
  {
   "cell_type": "code",
   "execution_count": 4,
   "metadata": {
    "id": "D7zjdQzrivf6"
   },
   "outputs": [
    {
     "ename": "TypeError",
     "evalue": "'tuple' object does not support item assignment",
     "output_type": "error",
     "traceback": [
      "\u001b[0;31m---------------------------------------------------------------------------\u001b[0m",
      "\u001b[0;31mTypeError\u001b[0m                                 Traceback (most recent call last)",
      "Cell \u001b[0;32mIn[4], line 2\u001b[0m\n\u001b[1;32m      1\u001b[0m a \u001b[38;5;241m=\u001b[39m (\u001b[38;5;241m1\u001b[39m,\u001b[38;5;241m2\u001b[39m,\u001b[38;5;241m3\u001b[39m,\u001b[38;5;241m4\u001b[39m)\n\u001b[0;32m----> 2\u001b[0m \u001b[43ma\u001b[49m\u001b[43m[\u001b[49m\u001b[38;5;241;43m1\u001b[39;49m\u001b[43m]\u001b[49m \u001b[38;5;241m=\u001b[39m \u001b[38;5;241m4\u001b[39m\n",
      "\u001b[0;31mTypeError\u001b[0m: 'tuple' object does not support item assignment"
     ]
    }
   ],
   "source": [
    "a = (1,2,3,4)\n",
    "a[1] = 4"
   ]
  },
  {
   "cell_type": "markdown",
   "metadata": {
    "id": "X7YPN49_jPcV"
   },
   "source": [
    "**錯誤訊息會是什麼：**\n",
    "\n",
    "```\n",
    "TypeError: 'tuple' object does not support item assignment\n",
    "```"
   ]
  },
  {
   "cell_type": "markdown",
   "metadata": {
    "id": "0uPG6MQXjdqP"
   },
   "source": [
    "---\n",
    "\n",
    "3. 在Python中，集合set是無序的，但是它可以轉換成為list就變成有序的。請問這個轉換的過程，它是怎麼將set中的元素做排列的？請寫一個程式驗證你的猜測。(3 points)"
   ]
  },
  {
   "cell_type": "code",
   "execution_count": 12,
   "metadata": {
    "id": "MXV6PW93kPl3"
   },
   "outputs": [
    {
     "name": "stdout",
     "output_type": "stream",
     "text": [
      "set in int: {1, 2, 3}\n",
      "list in int: [1, 2, 3]\n",
      "\n",
      "set in string: {'ba', 'c', 'a', 'bb'}\n",
      "list in string: ['ba', 'c', 'a', 'bb']\n",
      "\n",
      "set in int and string {1, 2, 3, 'c', 'a', 'b'}\n",
      "list in int and string [1, 2, 3, 'c', 'a', 'b']\n"
     ]
    }
   ],
   "source": [
    "my_set = {1,3,2}\n",
    "print('set in int:', my_set)\n",
    "print('list in int:', list(my_set))\n",
    "\n",
    "print()\n",
    "\n",
    "my_set = {'a', 'c', 'ba', 'bb'}\n",
    "print('set in string:', my_set)\n",
    "print('list in string:', list(my_set))\n",
    "\n",
    "print()\n",
    "\n",
    "my_set = {'a', 1, 'c', 3, 2, 'b'}\n",
    "print('set in int and string', my_set)\n",
    "print('list in int and string', list(my_set))"
   ]
  },
  {
   "cell_type": "markdown",
   "metadata": {
    "id": "44ibRKLwkEB4"
   },
   "source": [
    "**在把set轉換成list的時候，我覺得它的排序方式是這樣：**\n",
    "\n",
    "如果元素是整數，會由小排到大，如果是字串，就不一定。順序還是要看直譯器內部怎麼實作 `set`，因為這牽扯到如何快速在 `set` 內定位一個元素的位置，依照直譯器而定"
   ]
  },
  {
   "cell_type": "markdown",
   "metadata": {
    "id": "xQDNTN_7kS4l"
   },
   "source": [
    "---\n",
    "\n",
    "4. 請寫一個Python程式找出1到100中的質數, 並且把它放入一個list中。當然你可以透過for-loop的方式來完成。(3 points)不過你可以想想怎麼樣透過**集合的操作**來完成這個答案。(Extra 2 point)"
   ]
  },
  {
   "cell_type": "code",
   "execution_count": 15,
   "metadata": {
    "id": "IwuSFktrl43k"
   },
   "outputs": [
    {
     "name": "stdout",
     "output_type": "stream",
     "text": [
      "[2, 3, 5, 7, 11, 13, 17, 19, 23, 29, 31, 37, 41, 43, 47, 53, 59, 61, 67, 71, 73, 79, 83, 89, 97]\n"
     ]
    }
   ],
   "source": [
    "primes = [num for num in range(2, 101) if all(num % i != 0 for i in range(2, int(num**0.5) + 1))]\n",
    "print(primes)"
   ]
  },
  {
   "cell_type": "markdown",
   "metadata": {
    "id": "_PZ1WkU8S4T6"
   },
   "source": [
    "---\n",
    "\n",
    "5. 你知道在python中有複數的型別嗎？請簡單做至少兩個**不同類型**的範例來使用它？在沒有引入任何函式庫的情況下，它能夠做什麼？(4 points)"
   ]
  },
  {
   "cell_type": "code",
   "execution_count": 18,
   "metadata": {
    "id": "hee61icITp3x"
   },
   "outputs": [
    {
     "name": "stdout",
     "output_type": "stream",
     "text": [
      "(6.123233995736766e-17+1j)\n",
      "(7-10j)\n"
     ]
    }
   ],
   "source": [
    "print((-1)**0.5)\n",
    "print(7-10j)"
   ]
  },
  {
   "cell_type": "markdown",
   "metadata": {
    "id": "IGqUoFAWYRdn"
   },
   "source": [
    "**在沒有引入任何函式庫的情況下，它能夠做什麼**:\n",
    "\n",
    "解一元二次方程是的根、用一個變數表示座標"
   ]
  },
  {
   "cell_type": "markdown",
   "metadata": {
    "id": "-ORrh12VWFJQ"
   },
   "source": [
    "---\n",
    "\n",
    "6. 請建立一個自己的Python學習字典，輸入關鍵字之後，秀出那一個關鍵字你的學習成果。至少要有4個關鍵字(5 points)"
   ]
  },
  {
   "cell_type": "code",
   "execution_count": 28,
   "metadata": {
    "id": "NWrNM_CoWQcd"
   },
   "outputs": [
    {
     "name": "stdout",
     "output_type": "stream",
     "text": [
      "set: set is a data structure that can store unique value, usefull when I need to store something I don't care the order\n",
      "list: list is similar with set, but it cares the order and can store two same elements.\n",
      "tuple: tuple is similar with list, but once it defined, you can't modify it.\n",
      "dict: dict is a data structure to store key-value pairs, key should be string or int, value can be anything like int, string, set , list or even another dict!\n"
     ]
    }
   ],
   "source": [
    "my_skill = {\n",
    "    'set': 'set is a data structure that can store unique value, usefull when I need to store something I don\\'t care the order',\n",
    "    'list': 'list is similar with set, but it cares the order and can store two same elements.',\n",
    "    'tuple': 'tuple is similar with list, but once it defined, you can\\'t modify it.',\n",
    "    'dict': 'dict is a data structure to store key-value pairs, key should be string or int, value can be anything like int, string, set , list or even another dict!',\n",
    "}\n",
    "\n",
    "[print(f\"{skill[0]}: {skill[1]}\") for skill in my_skill.items()];"
   ]
  },
  {
   "cell_type": "markdown",
   "metadata": {
    "id": "TyPYVYgmZnbm"
   },
   "source": [
    "---\n",
    "\n",
    "**ChatGPT使用連結:**[https://chat.openai.com/share/52e190ff-a75b-4959-8a56-063df0ee6a26](https://chat.openai.com/share/52e190ff-a75b-4959-8a56-063df0ee6a26)"
   ]
  }
 ],
 "metadata": {
  "colab": {
   "provenance": []
  },
  "kernelspec": {
   "display_name": "Python 3 (ipykernel)",
   "language": "python",
   "name": "python3"
  },
  "language_info": {
   "codemirror_mode": {
    "name": "ipython",
    "version": 3
   },
   "file_extension": ".py",
   "mimetype": "text/x-python",
   "name": "python",
   "nbconvert_exporter": "python",
   "pygments_lexer": "ipython3",
   "version": "3.10.6"
  }
 },
 "nbformat": 4,
 "nbformat_minor": 4
}
